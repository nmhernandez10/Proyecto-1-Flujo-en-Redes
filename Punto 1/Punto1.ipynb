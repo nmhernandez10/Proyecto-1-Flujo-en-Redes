{
 "cells": [
  {
   "cell_type": "code",
   "execution_count": 2,
   "metadata": {},
   "outputs": [],
   "source": [
    "from cvxopt import *\n",
    "import numpy as np\n",
    "import scipy.optimize as sc"
   ]
  },
  {
   "cell_type": "code",
   "execution_count": 3,
   "metadata": {},
   "outputs": [
    {
     "name": "stdout",
     "output_type": "stream",
     "text": [
      "44.0\n"
     ]
    }
   ],
   "source": [
    "nodos = 1316\n",
    "grafo = [[0 for x in range(nodos)] for y in range(nodos)]\n",
    "costosGrafo = [[0 for x in range(nodos)] for y in range(nodos)]\n",
    "\n",
    "contador = 0\n",
    "\n",
    "f = open('MASINVACIO.txt','r')\n",
    "linea = f.readline()\n",
    "linea = f.readline()\n",
    "\n",
    "while not linea == \"\":\n",
    "    linea = linea.split()\n",
    "    for i in range(len(linea)-1):\n",
    "        grafo[contador][i] = float(linea[i+1])\n",
    "    contador +=1\n",
    "    linea = f.readline()\n",
    "\n",
    "contador = 0\n",
    "\n",
    "f.close()\n",
    "\n",
    "f = open('MCSINVACIO.txt','r')\n",
    "linea = f.readline()\n",
    "linea = f.readline()\n",
    "\n",
    "while not linea == \"\":\n",
    "    linea = linea.split()\n",
    "    for i in range(len(linea)-1):\n",
    "        costosGrafo[contador][i] = float(linea[i+1])\n",
    "    contador +=1\n",
    "    linea = f.readline()\n",
    "\n",
    "f.close()\n",
    "\n",
    "print (costosGrafo[9][34])"
   ]
  },
  {
   "cell_type": "code",
   "execution_count": 19,
   "metadata": {},
   "outputs": [
    {
     "name": "stdout",
     "output_type": "stream",
     "text": [
      "     pcost       dcost       gap    pres   dres   k/t\n",
      " 0: -2.5472e+04 -3.6797e+04  5e+03  0e+00  3e-01  1e+00\n",
      " 1: -2.8720e+04 -2.9111e+04  1e+02  2e-16  9e-03  2e+01\n",
      " 2: -2.8750e+04 -2.8754e+04  1e+00  3e-16  9e-05  2e-01\n",
      " 3: -2.8750e+04 -2.8750e+04  1e-02  3e-16  9e-07  2e-03\n",
      " 4: -2.8750e+04 -2.8750e+04  1e-04  1e-16  9e-09  2e-05\n",
      "Optimal solution found.\n",
      "[ 3.75e+02]\n",
      "[ 2.50e+02]\n",
      "\n"
     ]
    }
   ],
   "source": [
    "A = matrix([[-1., -2., 1., 0.], # columna de x1\n",
    "            [-1.5, -1., 0., 1.]]) # columna de x2\n",
    "b = matrix([750., 1000., 0., 0.]) # resultados\n",
    "c = matrix([50., 40.]) # funcion objetivo\n",
    "\n",
    "# resolviendo el problema\n",
    "sol= solvers.lp(c,A,b)\n",
    "\n",
    "print(-sol['x'])\n"
   ]
  },
  {
   "cell_type": "code",
   "execution_count": 10,
   "metadata": {
    "scrolled": true
   },
   "outputs": [],
   "source": [
    "numArcos = 0\n",
    "\n",
    "for i in range(nodos):\n",
    "    for j in range(nodos):\n",
    "        if (grafo[i][j] > 0):\n",
    "            numArcos += 1\n",
    "            \n",
    "A = [[0.0 for x in range(numArcos)] for y in range(nodos)]\n",
    "c = [0.0 for x in range(numArcos)]\n",
    "\n",
    "\n",
    "\n",
    "numArcos = 0\n",
    "\n",
    "for i in range(nodos):\n",
    "    for j in range(nodos):\n",
    "        if (grafo[i][j] > 0):\n",
    "            A[i][numArcos]=1.0\n",
    "            A[j][numArcos]=-1.0\n",
    "            c[numArcos]= costosGrafo[i][j]\n",
    "            numArcos += 1\n",
    "            \n",
    "b = [0.0 for x in range(nodos)]\n",
    "b[0] = 1.0\n",
    "b[1] = -1.0\n",
    "\n",
    "sol = sc.linprog(c, A_ub=None, b_ub=None, A_eq= A, b_eq=b)"
   ]
  },
  {
   "cell_type": "code",
   "execution_count": 24,
   "metadata": {},
   "outputs": [
    {
     "ename": "ValueError",
     "evalue": "Rank(A) < p or Rank([G; A]) < n",
     "output_type": "error",
     "traceback": [
      "\u001b[1;31m---------------------------------------------------------------------------\u001b[0m",
      "\u001b[1;31mValueError\u001b[0m                                Traceback (most recent call last)",
      "\u001b[1;32m<ipython-input-24-4340f6fd3e3d>\u001b[0m in \u001b[0;36m<module>\u001b[1;34m()\u001b[0m\n\u001b[0;32m     29\u001b[0m \u001b[0mc\u001b[0m\u001b[1;33m=\u001b[0m \u001b[0mmatrix\u001b[0m\u001b[1;33m(\u001b[0m\u001b[0mc\u001b[0m\u001b[1;33m)\u001b[0m\u001b[1;33m\u001b[0m\u001b[0m\n\u001b[0;32m     30\u001b[0m \u001b[1;33m\u001b[0m\u001b[0m\n\u001b[1;32m---> 31\u001b[1;33m \u001b[0msol\u001b[0m \u001b[1;33m=\u001b[0m \u001b[0msolvers\u001b[0m\u001b[1;33m.\u001b[0m\u001b[0mlp\u001b[0m\u001b[1;33m(\u001b[0m\u001b[0mc\u001b[0m\u001b[1;33m,\u001b[0m \u001b[0mG\u001b[0m \u001b[1;33m=\u001b[0m \u001b[0mA\u001b[0m\u001b[1;33m,\u001b[0m \u001b[0mh\u001b[0m \u001b[1;33m=\u001b[0m \u001b[0mb\u001b[0m\u001b[1;33m,\u001b[0m \u001b[0mA\u001b[0m \u001b[1;33m=\u001b[0m \u001b[0mA\u001b[0m\u001b[1;33m,\u001b[0m \u001b[0mb\u001b[0m \u001b[1;33m=\u001b[0m \u001b[0mb\u001b[0m\u001b[1;33m)\u001b[0m\u001b[1;33m\u001b[0m\u001b[0m\n\u001b[0m",
      "\u001b[1;32m~\\Anaconda3\\lib\\site-packages\\cvxopt\\coneprog.py\u001b[0m in \u001b[0;36mlp\u001b[1;34m(c, G, h, A, b, kktsolver, solver, primalstart, dualstart, **kwargs)\u001b[0m\n\u001b[0;32m   3008\u001b[0m \u001b[1;33m\u001b[0m\u001b[0m\n\u001b[0;32m   3009\u001b[0m     return conelp(c, G, h, {'l': m, 'q': [], 's': []}, A,  b, primalstart,\n\u001b[1;32m-> 3010\u001b[1;33m         dualstart, kktsolver = kktsolver, options = options)\n\u001b[0m\u001b[0;32m   3011\u001b[0m \u001b[1;33m\u001b[0m\u001b[0m\n\u001b[0;32m   3012\u001b[0m \u001b[1;33m\u001b[0m\u001b[0m\n",
      "\u001b[1;32m~\\Anaconda3\\lib\\site-packages\\cvxopt\\coneprog.py\u001b[0m in \u001b[0;36mconelp\u001b[1;34m(c, G, h, dims, A, b, primalstart, dualstart, kktsolver, xnewcopy, xdot, xaxpy, xscal, ynewcopy, ydot, yaxpy, yscal, **kwargs)\u001b[0m\n\u001b[0;32m    571\u001b[0m     \u001b[1;32mif\u001b[0m \u001b[0mkktsolver\u001b[0m \u001b[1;32min\u001b[0m \u001b[0mdefaultsolvers\u001b[0m\u001b[1;33m:\u001b[0m\u001b[1;33m\u001b[0m\u001b[0m\n\u001b[0;32m    572\u001b[0m         \u001b[1;32mif\u001b[0m \u001b[0mKKTREG\u001b[0m \u001b[1;32mis\u001b[0m \u001b[1;32mNone\u001b[0m \u001b[1;32mand\u001b[0m \u001b[1;33m(\u001b[0m\u001b[0mb\u001b[0m\u001b[1;33m.\u001b[0m\u001b[0msize\u001b[0m\u001b[1;33m[\u001b[0m\u001b[1;36m0\u001b[0m\u001b[1;33m]\u001b[0m \u001b[1;33m>\u001b[0m \u001b[0mc\u001b[0m\u001b[1;33m.\u001b[0m\u001b[0msize\u001b[0m\u001b[1;33m[\u001b[0m\u001b[1;36m0\u001b[0m\u001b[1;33m]\u001b[0m \u001b[1;32mor\u001b[0m \u001b[0mb\u001b[0m\u001b[1;33m.\u001b[0m\u001b[0msize\u001b[0m\u001b[1;33m[\u001b[0m\u001b[1;36m0\u001b[0m\u001b[1;33m]\u001b[0m \u001b[1;33m+\u001b[0m \u001b[0mcdim_pckd\u001b[0m \u001b[1;33m<\u001b[0m \u001b[0mc\u001b[0m\u001b[1;33m.\u001b[0m\u001b[0msize\u001b[0m\u001b[1;33m[\u001b[0m\u001b[1;36m0\u001b[0m\u001b[1;33m]\u001b[0m\u001b[1;33m)\u001b[0m\u001b[1;33m:\u001b[0m\u001b[1;33m\u001b[0m\u001b[0m\n\u001b[1;32m--> 573\u001b[1;33m            \u001b[1;32mraise\u001b[0m \u001b[0mValueError\u001b[0m\u001b[1;33m(\u001b[0m\u001b[1;34m\"Rank(A) < p or Rank([G; A]) < n\"\u001b[0m\u001b[1;33m)\u001b[0m\u001b[1;33m\u001b[0m\u001b[0m\n\u001b[0m\u001b[0;32m    574\u001b[0m         \u001b[1;32mif\u001b[0m \u001b[0mkktsolver\u001b[0m \u001b[1;33m==\u001b[0m \u001b[1;34m'ldl'\u001b[0m\u001b[1;33m:\u001b[0m\u001b[1;33m\u001b[0m\u001b[0m\n\u001b[0;32m    575\u001b[0m             \u001b[0mfactor\u001b[0m \u001b[1;33m=\u001b[0m \u001b[0mmisc\u001b[0m\u001b[1;33m.\u001b[0m\u001b[0mkkt_ldl\u001b[0m\u001b[1;33m(\u001b[0m\u001b[0mG\u001b[0m\u001b[1;33m,\u001b[0m \u001b[0mdims\u001b[0m\u001b[1;33m,\u001b[0m \u001b[0mA\u001b[0m\u001b[1;33m,\u001b[0m \u001b[0mkktreg\u001b[0m \u001b[1;33m=\u001b[0m \u001b[0mKKTREG\u001b[0m\u001b[1;33m)\u001b[0m\u001b[1;33m\u001b[0m\u001b[0m\n",
      "\u001b[1;31mValueError\u001b[0m: Rank(A) < p or Rank([G; A]) < n"
     ]
    }
   ],
   "source": [
    "numArcos = 0\n",
    "\n",
    "for i in range(nodos):\n",
    "    for j in range(nodos):\n",
    "        if (grafo[i][j] > 0):\n",
    "            numArcos += 1\n",
    "            \n",
    "A = [[0.0 for x in range(nodos)] for y in range(numArcos)]\n",
    "c = [0.0 for x in range(numArcos)]\n",
    "\n",
    "\n",
    "\n",
    "numArcos = 0\n",
    "\n",
    "for i in range(nodos):\n",
    "    for j in range(nodos):\n",
    "        if (grafo[i][j] > 0):\n",
    "            A[numArcos][i]=1.0\n",
    "            A[numArcos][j]=-1.0\n",
    "            c[numArcos]= costosGrafo[i][j]\n",
    "            numArcos += 1\n",
    "            \n",
    "b = [0.0 for x in range(nodos)]\n",
    "b[0] = 1.0\n",
    "b[1] = -1.0\n",
    "\n",
    "A = matrix(A)\n",
    "b= matrix(b)\n",
    "c= matrix(c)\n",
    "\n",
    "sol = solvers.lp(c, G = A, h = b, A = A, b = b)"
   ]
  }
 ],
 "metadata": {
  "kernelspec": {
   "display_name": "Python 3",
   "language": "python",
   "name": "python3"
  },
  "language_info": {
   "codemirror_mode": {
    "name": "ipython",
    "version": 3
   },
   "file_extension": ".py",
   "mimetype": "text/x-python",
   "name": "python",
   "nbconvert_exporter": "python",
   "pygments_lexer": "ipython3",
   "version": "3.6.5"
  }
 },
 "nbformat": 4,
 "nbformat_minor": 2
}
